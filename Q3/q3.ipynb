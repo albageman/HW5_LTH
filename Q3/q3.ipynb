{
 "cells": [
  {
   "cell_type": "code",
   "execution_count": 44,
   "id": "e2efc021",
   "metadata": {
    "scrolled": true
   },
   "outputs": [
    {
     "name": "stdout",
     "output_type": "stream",
     "text": [
      "***Subway Report for Seoul on March 2023***\n",
      "1st Busiest Line: Line 2 (85620512)\n",
      "2st Busiest Line: Line 5 (39671990)\n",
      "1st Least used Line: Line 8 (11863928)\n",
      "2st Least used Line: Line 1 (14705833)\n"
     ]
    }
   ],
   "source": [
    "import csv\n",
    "\n",
    "def main():\n",
    "    f = open('q3.csv')\n",
    "    data = csv.reader(f)\n",
    "    lineUser = [0 for i in range(9)]\n",
    "    \n",
    "    for row in data:\n",
    "        for cnt in range(4,6):\n",
    "            row[cnt] = int(row[cnt])\n",
    "        lineNum = (row[1])[0]\n",
    "        if lineNum in [\"1\",\"2\",\"3\",\"4\",\"5\",\"6\",\"7\",\"8\",\"9\"]:\n",
    "            lineNum = int(lineNum[0])\n",
    "        else: \n",
    "            continue\n",
    "        lineUser[lineNum-1] += (row[4]+row[5])\n",
    "    \n",
    "    sortList = sorted(lineUser)\n",
    "    print(\"***Subway Report for Seoul on March 2023***\")\n",
    "    print(\"1st Busiest Line: Line {0:d} ({1:d})\" .format(lineUser.index(sortList[8])+1, sortList[8]))\n",
    "    print(\"2st Busiest Line: Line {0:d} ({1:d})\" .format(lineUser.index(sortList[7])+1, sortList[7]))\n",
    "    print(\"1st Least used Line: Line {0:d} ({1:d})\" .format(lineUser.index(sortList[0])+1, sortList[0]))\n",
    "    print(\"2st Least used Line: Line {0:d} ({1:d})\" .format(lineUser.index(sortList[1])+1, sortList[1]))\n",
    "    \n",
    "    f.close()\n",
    "\n",
    "if __name__ == '__main__':\n",
    "    main()"
   ]
  },
  {
   "cell_type": "code",
   "execution_count": null,
   "id": "6a4e72ce",
   "metadata": {},
   "outputs": [],
   "source": []
  }
 ],
 "metadata": {
  "kernelspec": {
   "display_name": "Python 3 (ipykernel)",
   "language": "python",
   "name": "python3"
  },
  "language_info": {
   "codemirror_mode": {
    "name": "ipython",
    "version": 3
   },
   "file_extension": ".py",
   "mimetype": "text/x-python",
   "name": "python",
   "nbconvert_exporter": "python",
   "pygments_lexer": "ipython3",
   "version": "3.10.10"
  }
 },
 "nbformat": 4,
 "nbformat_minor": 5
}
