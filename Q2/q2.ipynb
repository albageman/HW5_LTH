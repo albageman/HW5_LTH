{
 "cells": [
  {
   "cell_type": "code",
   "execution_count": 3,
   "id": "d25ba230",
   "metadata": {},
   "outputs": [
    {
     "name": "stdout",
     "output_type": "stream",
     "text": [
      "***Annual Temperature Report for Seou in 2022***\n",
      "Date with the Largest Temperature Variation: 2022-11-29\n",
      "Maximum Temperature Difference: 16.6 Celsius\n",
      "Date with the Smallest Temperature Variation: 2022-06-29\n",
      "Minimum Temperature Difference: 1.7 Celsius\n"
     ]
    }
   ],
   "source": [
    "import csv   \n",
    "\n",
    "def main():\n",
    "    f = open('q2.csv')\n",
    "    data = csv.reader(f)\n",
    "    \n",
    "    maxDate=\"\"\n",
    "    minDate=\"\"\n",
    "    maxVar=0\n",
    "    minVar=999\n",
    "    \n",
    "    for row in data:\n",
    "        if row[3]=='' or row[4] == '':\n",
    "            continue\n",
    "        for cnt in range(3,5):\n",
    "            row[cnt] = float(row[cnt])\n",
    "        var = row[4] - row[3]\n",
    "        if maxVar < var:\n",
    "            maxVar = var\n",
    "            maxDate = row[0]\n",
    "        elif minVar > var:\n",
    "            minVar = var\n",
    "            minDate = row[0]\n",
    "    \n",
    "    print(\"***Annual Temperature Report for Seou in 2022***\")\n",
    "    print(\"Date with the Largest Temperature Variation: {0:s}\" .format(maxDate))\n",
    "    print(\"Maximum Temperature Difference: {0:.1f} Celsius\" .format(maxVar))\n",
    "    print(\"Date with the Smallest Temperature Variation: {0:s}\" .format(minDate))\n",
    "    print(\"Minimum Temperature Difference: {0:.1f} Celsius\" .format(minVar))\n",
    "    \n",
    "    f.close()\n",
    "    \n",
    "if __name__ == '__main__':\n",
    "    main()"
   ]
  },
  {
   "cell_type": "code",
   "execution_count": null,
   "id": "118d878f",
   "metadata": {},
   "outputs": [],
   "source": []
  }
 ],
 "metadata": {
  "kernelspec": {
   "display_name": "Python 3 (ipykernel)",
   "language": "python",
   "name": "python3"
  },
  "language_info": {
   "codemirror_mode": {
    "name": "ipython",
    "version": 3
   },
   "file_extension": ".py",
   "mimetype": "text/x-python",
   "name": "python",
   "nbconvert_exporter": "python",
   "pygments_lexer": "ipython3",
   "version": "3.10.10"
  }
 },
 "nbformat": 4,
 "nbformat_minor": 5
}
