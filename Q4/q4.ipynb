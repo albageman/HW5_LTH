{
 "cells": [
  {
   "cell_type": "code",
   "execution_count": 21,
   "id": "59cad174",
   "metadata": {},
   "outputs": [
    {
     "name": "stdout",
     "output_type": "stream",
     "text": [
      "***Subway Report for Seoul on March 2023***\n",
      "Line  1 :\n",
      "Busiest Station: 서울역 (3084227)\n",
      "Least used Station: 동묘앞 (658566)\n",
      "Line  2 :\n",
      "Busiest Station: 강남 (4690366)\n",
      "Least used Station: 도림천 (80084)\n",
      "Line  3 :\n",
      "Busiest Station: 고속터미널 (2886887)\n",
      "Least used Station: 충무로 (48)\n",
      "Line  4 :\n",
      "Busiest Station: 혜화 (2286709)\n",
      "Least used Station: 남태령 (79916)\n"
     ]
    }
   ],
   "source": [
    "import csv\n",
    "def main():\n",
    "    f = open('q4.csv')\n",
    "    data = csv.reader(f)\n",
    "    lineUser = [0,10**10,0,10**10,0,10**10,0,10**10]\n",
    "    minArr = [\"\" for i in range(4)]\n",
    "    maxArr = [\"\" for i in range(4)]\n",
    "    \n",
    "    for row in data:\n",
    "        for cnt in range(4,6):\n",
    "            row[cnt] = int(row[cnt])\n",
    "        if row[1]==\"1호선\":\n",
    "            sum = row[4]+row[5]\n",
    "            if lineUser[0] < sum:\n",
    "                lineUser[0] = sum\n",
    "                maxArr[0] = row[3]\n",
    "            elif lineUser[1] > sum:\n",
    "                lineUser[1] = sum\n",
    "                minArr[0] = row[3]\n",
    "        elif row[1] == \"2호선\":\n",
    "            sum = row[4]+row[5]\n",
    "            if lineUser[2] < sum:\n",
    "                lineUser[2] = sum\n",
    "                maxArr[1] = row[3]\n",
    "            elif lineUser[3] > sum:\n",
    "                lineUser[3] = sum\n",
    "                minArr[1] = row[3]\n",
    "        elif row[1] == \"3호선\":\n",
    "            sum = row[4]+row[5]\n",
    "            if lineUser[4] < sum:\n",
    "                lineUser[4] = sum\n",
    "                maxArr[2] = row[3]\n",
    "            elif lineUser[5] > sum:\n",
    "                lineUser[5] = sum\n",
    "                minArr[2] = row[3]\n",
    "        elif row[1] == \"4호선\":\n",
    "            sum = row[4]+row[5]\n",
    "            if lineUser[6] < sum:\n",
    "                lineUser[6] = sum\n",
    "                maxArr[3] = row[3]\n",
    "            elif lineUser[7] > sum:\n",
    "                lineUser[7] = sum\n",
    "                minArr[3] = row[3]\n",
    "        \n",
    "    print(\"***Subway Report for Seoul on March 2023***\")\n",
    "    for i in range(1,5):\n",
    "        print(\"Line \",i,\":\")\n",
    "        print(\"Busiest Station: {0:s} ({1:d})\".format(maxArr[i-1], lineUser[i*2-2]))\n",
    "        print(\"Least used Station: {0:s} ({1:d})\".format(minArr[i-1], lineUser[i*2-1]))\n",
    "            \n",
    "if __name__ == '__main__':\n",
    "    main()"
   ]
  },
  {
   "cell_type": "code",
   "execution_count": null,
   "id": "a32d488a",
   "metadata": {},
   "outputs": [],
   "source": []
  }
 ],
 "metadata": {
  "kernelspec": {
   "display_name": "Python 3 (ipykernel)",
   "language": "python",
   "name": "python3"
  },
  "language_info": {
   "codemirror_mode": {
    "name": "ipython",
    "version": 3
   },
   "file_extension": ".py",
   "mimetype": "text/x-python",
   "name": "python",
   "nbconvert_exporter": "python",
   "pygments_lexer": "ipython3",
   "version": "3.10.10"
  }
 },
 "nbformat": 4,
 "nbformat_minor": 5
}
