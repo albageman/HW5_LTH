{
 "cells": [
  {
   "cell_type": "code",
   "execution_count": 21,
   "id": "0b483cd0",
   "metadata": {},
   "outputs": [
    {
     "name": "stdout",
     "output_type": "stream",
     "text": [
      "***Annual Temperature Report for Seou in 2022***\n",
      "Agerage Temperature: 13.26 Celsius\n",
      "Agerage Minimum Temperature: 9.21 Celsius\n",
      "Agerage Maximum Temperature: 18.05 Celsius\n"
     ]
    }
   ],
   "source": [
    "import csv\n",
    "\n",
    "def main():\n",
    "    f = open('q1.csv')\n",
    "    data = csv.reader(f)\n",
    "\n",
    "    avg = 0\n",
    "    min = 0\n",
    "    max = 0\n",
    "    date = 0;\n",
    "\n",
    "    for row in data:\n",
    "        if row[2]=='' or row[3]=='' or row[4] == '':\n",
    "            continue\n",
    "        for cnt in range(2,5):\n",
    "            row[cnt] = float(row[cnt])\n",
    "        avg += row[2]\n",
    "        min += row[3]\n",
    "        max += row[4]\n",
    "        \n",
    "        date += 1\n",
    "        \n",
    "    avg = avg / date\n",
    "    min = min / date\n",
    "    max = max / date\n",
    "    \n",
    "    print(\"***Annual Temperature Report for Seou in 2022***\")\n",
    "    print(\"Agerage Temperature: {0:.2f} Celsius\" .format(avg))\n",
    "    print(\"Agerage Minimum Temperature: {0:.2f} Celsius\" .format(min))\n",
    "    print(\"Agerage Maximum Temperature: {0:.2f} Celsius\" .format(max))\n",
    "\n",
    "\n",
    "    f.close()\n",
    "\n",
    "   \n",
    "if __name__ == '__main__':\n",
    "    main()"
   ]
  },
  {
   "cell_type": "code",
   "execution_count": null,
   "id": "f8dbb700",
   "metadata": {},
   "outputs": [],
   "source": []
  }
 ],
 "metadata": {
  "kernelspec": {
   "display_name": "Python 3 (ipykernel)",
   "language": "python",
   "name": "python3"
  },
  "language_info": {
   "codemirror_mode": {
    "name": "ipython",
    "version": 3
   },
   "file_extension": ".py",
   "mimetype": "text/x-python",
   "name": "python",
   "nbconvert_exporter": "python",
   "pygments_lexer": "ipython3",
   "version": "3.10.10"
  }
 },
 "nbformat": 4,
 "nbformat_minor": 5
}
